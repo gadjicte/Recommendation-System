{
 "cells": [
  {
   "cell_type": "markdown",
   "id": "2cd1168b",
   "metadata": {},
   "source": [
    "# Song Recommendation System\n",
    "This notebook implements a song recommendation system using NLP techniques and cosine similarity."
   ]
  },
  {
   "cell_type": "markdown",
   "id": "06415338",
   "metadata": {},
   "source": [
    "# Load Dataset\n",
    "Load the Spotify dataset and display basic information about the data.\n",
    "# Preprocess Text\n",
    "Clean and preprocess the text data for analysis.\n",
    "# Tokenization\n",
    "Convert text into tokens and apply stemming to reduce words to their root forms.\n",
    "# TF-IDF Vectorization\n",
    "Transform the text data into numerical features using TF-IDF.\n",
    "# Similarity Calculation\n",
    "Calculate the similarity between songs based on their TF-IDF features.\n",
    "# Recommendation Function\n",
    "Define a function to recommend similar songs based on a given song.\n",
    "# Save Data\n",
    "Save the similarity matrix and processed data for future use."
   ]
  },
  {
   "cell_type": "code",
   "execution_count": 30,
   "id": "ad50a6a9",
   "metadata": {},
   "outputs": [],
   "source": [
    "import pandas as pd"
   ]
  },
  {
   "cell_type": "markdown",
   "id": "c760bc2c",
   "metadata": {},
   "source": [
    "# Load Dataset\n",
    "Load the Spotify dataset and display basic information about the data."
   ]
  },
  {
   "cell_type": "code",
   "execution_count": 31,
   "id": "273d63a5",
   "metadata": {},
   "outputs": [
    {
     "name": "stdout",
     "output_type": "stream",
     "text": [
      "Total number of songs: 57650\n"
     ]
    },
    {
     "data": {
      "text/html": [
       "<div>\n",
       "<style scoped>\n",
       "    .dataframe tbody tr th:only-of-type {\n",
       "        vertical-align: middle;\n",
       "    }\n",
       "\n",
       "    .dataframe tbody tr th {\n",
       "        vertical-align: top;\n",
       "    }\n",
       "\n",
       "    .dataframe thead th {\n",
       "        text-align: right;\n",
       "    }\n",
       "</style>\n",
       "<table border=\"1\" class=\"dataframe\">\n",
       "  <thead>\n",
       "    <tr style=\"text-align: right;\">\n",
       "      <th></th>\n",
       "      <th>artist</th>\n",
       "      <th>song</th>\n",
       "      <th>link</th>\n",
       "      <th>text</th>\n",
       "    </tr>\n",
       "  </thead>\n",
       "  <tbody>\n",
       "    <tr>\n",
       "      <th>0</th>\n",
       "      <td>ABBA</td>\n",
       "      <td>Ahe's My Kind Of Girl</td>\n",
       "      <td>/a/abba/ahes+my+kind+of+girl_20598417.html</td>\n",
       "      <td>Look at her face, it's a wonderful face  \\r\\nA...</td>\n",
       "    </tr>\n",
       "    <tr>\n",
       "      <th>1</th>\n",
       "      <td>ABBA</td>\n",
       "      <td>Andante, Andante</td>\n",
       "      <td>/a/abba/andante+andante_20002708.html</td>\n",
       "      <td>Take it easy with me, please  \\r\\nTouch me gen...</td>\n",
       "    </tr>\n",
       "    <tr>\n",
       "      <th>2</th>\n",
       "      <td>ABBA</td>\n",
       "      <td>As Good As New</td>\n",
       "      <td>/a/abba/as+good+as+new_20003033.html</td>\n",
       "      <td>I'll never know why I had to go  \\r\\nWhy I had...</td>\n",
       "    </tr>\n",
       "    <tr>\n",
       "      <th>3</th>\n",
       "      <td>ABBA</td>\n",
       "      <td>Bang</td>\n",
       "      <td>/a/abba/bang_20598415.html</td>\n",
       "      <td>Making somebody happy is a question of give an...</td>\n",
       "    </tr>\n",
       "    <tr>\n",
       "      <th>4</th>\n",
       "      <td>ABBA</td>\n",
       "      <td>Bang-A-Boomerang</td>\n",
       "      <td>/a/abba/bang+a+boomerang_20002668.html</td>\n",
       "      <td>Making somebody happy is a question of give an...</td>\n",
       "    </tr>\n",
       "  </tbody>\n",
       "</table>\n",
       "</div>"
      ],
      "text/plain": [
       "  artist                   song                                        link  \\\n",
       "0   ABBA  Ahe's My Kind Of Girl  /a/abba/ahes+my+kind+of+girl_20598417.html   \n",
       "1   ABBA       Andante, Andante       /a/abba/andante+andante_20002708.html   \n",
       "2   ABBA         As Good As New        /a/abba/as+good+as+new_20003033.html   \n",
       "3   ABBA                   Bang                  /a/abba/bang_20598415.html   \n",
       "4   ABBA       Bang-A-Boomerang      /a/abba/bang+a+boomerang_20002668.html   \n",
       "\n",
       "                                                text  \n",
       "0  Look at her face, it's a wonderful face  \\r\\nA...  \n",
       "1  Take it easy with me, please  \\r\\nTouch me gen...  \n",
       "2  I'll never know why I had to go  \\r\\nWhy I had...  \n",
       "3  Making somebody happy is a question of give an...  \n",
       "4  Making somebody happy is a question of give an...  "
      ]
     },
     "execution_count": 31,
     "metadata": {},
     "output_type": "execute_result"
    }
   ],
   "source": [
    "# Load the dataset\n",
    "df = pd.read_csv('data/spotify_millsongdata.csv')\n",
    "print(\"Total number of songs:\", len(df))\n",
    "df.head()"
   ]
  },
  {
   "cell_type": "code",
   "execution_count": 32,
   "id": "f45560f3",
   "metadata": {},
   "outputs": [
    {
     "data": {
      "text/html": [
       "<div>\n",
       "<style scoped>\n",
       "    .dataframe tbody tr th:only-of-type {\n",
       "        vertical-align: middle;\n",
       "    }\n",
       "\n",
       "    .dataframe tbody tr th {\n",
       "        vertical-align: top;\n",
       "    }\n",
       "\n",
       "    .dataframe thead th {\n",
       "        text-align: right;\n",
       "    }\n",
       "</style>\n",
       "<table border=\"1\" class=\"dataframe\">\n",
       "  <thead>\n",
       "    <tr style=\"text-align: right;\">\n",
       "      <th></th>\n",
       "      <th>artist</th>\n",
       "      <th>song</th>\n",
       "      <th>link</th>\n",
       "      <th>text</th>\n",
       "    </tr>\n",
       "  </thead>\n",
       "  <tbody>\n",
       "    <tr>\n",
       "      <th>57640</th>\n",
       "      <td>Zebrahead</td>\n",
       "      <td>The Setup</td>\n",
       "      <td>/z/zebrahead/the+setup_10198494.html</td>\n",
       "      <td>Lie to me  \\r\\nTell me that everything will be...</td>\n",
       "    </tr>\n",
       "    <tr>\n",
       "      <th>57641</th>\n",
       "      <td>Ziggy Marley</td>\n",
       "      <td>Freedom Road</td>\n",
       "      <td>/z/ziggy+marley/freedom+road_20531174.html</td>\n",
       "      <td>That's why I'm marching, yes, I'm marching,  \\...</td>\n",
       "    </tr>\n",
       "    <tr>\n",
       "      <th>57642</th>\n",
       "      <td>Ziggy Marley</td>\n",
       "      <td>Friend</td>\n",
       "      <td>/z/ziggy+marley/friend_20673508.html</td>\n",
       "      <td>[Chorus]  \\r\\nI wanna thank you for the things...</td>\n",
       "    </tr>\n",
       "    <tr>\n",
       "      <th>57643</th>\n",
       "      <td>Ziggy Marley</td>\n",
       "      <td>G7</td>\n",
       "      <td>/z/ziggy+marley/g7_20531173.html</td>\n",
       "      <td>Seven richest countries in the world  \\r\\nThem...</td>\n",
       "    </tr>\n",
       "    <tr>\n",
       "      <th>57644</th>\n",
       "      <td>Ziggy Marley</td>\n",
       "      <td>Generation</td>\n",
       "      <td>/z/ziggy+marley/generation_20531171.html</td>\n",
       "      <td>Many generation have passed away  \\r\\nFighting...</td>\n",
       "    </tr>\n",
       "    <tr>\n",
       "      <th>57645</th>\n",
       "      <td>Ziggy Marley</td>\n",
       "      <td>Good Old Days</td>\n",
       "      <td>/z/ziggy+marley/good+old+days_10198588.html</td>\n",
       "      <td>Irie days come on play  \\r\\nLet the angels fly...</td>\n",
       "    </tr>\n",
       "    <tr>\n",
       "      <th>57646</th>\n",
       "      <td>Ziggy Marley</td>\n",
       "      <td>Hand To Mouth</td>\n",
       "      <td>/z/ziggy+marley/hand+to+mouth_20531167.html</td>\n",
       "      <td>Power to the workers  \\r\\nMore power  \\r\\nPowe...</td>\n",
       "    </tr>\n",
       "    <tr>\n",
       "      <th>57647</th>\n",
       "      <td>Zwan</td>\n",
       "      <td>Come With Me</td>\n",
       "      <td>/z/zwan/come+with+me_20148981.html</td>\n",
       "      <td>all you need  \\r\\nis something i'll believe  \\...</td>\n",
       "    </tr>\n",
       "    <tr>\n",
       "      <th>57648</th>\n",
       "      <td>Zwan</td>\n",
       "      <td>Desire</td>\n",
       "      <td>/z/zwan/desire_20148986.html</td>\n",
       "      <td>northern star  \\r\\nam i frightened  \\r\\nwhere ...</td>\n",
       "    </tr>\n",
       "    <tr>\n",
       "      <th>57649</th>\n",
       "      <td>Zwan</td>\n",
       "      <td>Heartsong</td>\n",
       "      <td>/z/zwan/heartsong_20148991.html</td>\n",
       "      <td>come in  \\r\\nmake yourself at home  \\r\\ni'm a ...</td>\n",
       "    </tr>\n",
       "  </tbody>\n",
       "</table>\n",
       "</div>"
      ],
      "text/plain": [
       "             artist           song  \\\n",
       "57640     Zebrahead      The Setup   \n",
       "57641  Ziggy Marley   Freedom Road   \n",
       "57642  Ziggy Marley         Friend   \n",
       "57643  Ziggy Marley             G7   \n",
       "57644  Ziggy Marley     Generation   \n",
       "57645  Ziggy Marley  Good Old Days   \n",
       "57646  Ziggy Marley  Hand To Mouth   \n",
       "57647          Zwan   Come With Me   \n",
       "57648          Zwan         Desire   \n",
       "57649          Zwan      Heartsong   \n",
       "\n",
       "                                              link  \\\n",
       "57640         /z/zebrahead/the+setup_10198494.html   \n",
       "57641   /z/ziggy+marley/freedom+road_20531174.html   \n",
       "57642         /z/ziggy+marley/friend_20673508.html   \n",
       "57643             /z/ziggy+marley/g7_20531173.html   \n",
       "57644     /z/ziggy+marley/generation_20531171.html   \n",
       "57645  /z/ziggy+marley/good+old+days_10198588.html   \n",
       "57646  /z/ziggy+marley/hand+to+mouth_20531167.html   \n",
       "57647           /z/zwan/come+with+me_20148981.html   \n",
       "57648                 /z/zwan/desire_20148986.html   \n",
       "57649              /z/zwan/heartsong_20148991.html   \n",
       "\n",
       "                                                    text  \n",
       "57640  Lie to me  \\r\\nTell me that everything will be...  \n",
       "57641  That's why I'm marching, yes, I'm marching,  \\...  \n",
       "57642  [Chorus]  \\r\\nI wanna thank you for the things...  \n",
       "57643  Seven richest countries in the world  \\r\\nThem...  \n",
       "57644  Many generation have passed away  \\r\\nFighting...  \n",
       "57645  Irie days come on play  \\r\\nLet the angels fly...  \n",
       "57646  Power to the workers  \\r\\nMore power  \\r\\nPowe...  \n",
       "57647  all you need  \\r\\nis something i'll believe  \\...  \n",
       "57648  northern star  \\r\\nam i frightened  \\r\\nwhere ...  \n",
       "57649  come in  \\r\\nmake yourself at home  \\r\\ni'm a ...  "
      ]
     },
     "execution_count": 32,
     "metadata": {},
     "output_type": "execute_result"
    }
   ],
   "source": [
    "df.tail(10)"
   ]
  },
  {
   "cell_type": "code",
   "execution_count": 33,
   "id": "aac981a8",
   "metadata": {},
   "outputs": [
    {
     "data": {
      "text/html": [
       "<div>\n",
       "<style scoped>\n",
       "    .dataframe tbody tr th:only-of-type {\n",
       "        vertical-align: middle;\n",
       "    }\n",
       "\n",
       "    .dataframe tbody tr th {\n",
       "        vertical-align: top;\n",
       "    }\n",
       "\n",
       "    .dataframe thead th {\n",
       "        text-align: right;\n",
       "    }\n",
       "</style>\n",
       "<table border=\"1\" class=\"dataframe\">\n",
       "  <thead>\n",
       "    <tr style=\"text-align: right;\">\n",
       "      <th></th>\n",
       "      <th>artist</th>\n",
       "      <th>song</th>\n",
       "      <th>text</th>\n",
       "    </tr>\n",
       "  </thead>\n",
       "  <tbody>\n",
       "    <tr>\n",
       "      <th>0</th>\n",
       "      <td>Faith Hill</td>\n",
       "      <td>Little Drummer Boy</td>\n",
       "      <td>Come, they told me  \\r\\nPa, rum, pa, pum, pum ...</td>\n",
       "    </tr>\n",
       "    <tr>\n",
       "      <th>1</th>\n",
       "      <td>Demi Lovato</td>\n",
       "      <td>Let It Go</td>\n",
       "      <td>Let it go, let it go  \\r\\nCan't hold you back ...</td>\n",
       "    </tr>\n",
       "    <tr>\n",
       "      <th>2</th>\n",
       "      <td>James Taylor</td>\n",
       "      <td>How's The World Treating You</td>\n",
       "      <td>I've had nothing but sorrow  \\r\\nSince you sai...</td>\n",
       "    </tr>\n",
       "    <tr>\n",
       "      <th>3</th>\n",
       "      <td>Quicksand</td>\n",
       "      <td>Unfulfilled</td>\n",
       "      <td>To stand the test of time,  \\r\\nTo stand alone...</td>\n",
       "    </tr>\n",
       "    <tr>\n",
       "      <th>4</th>\n",
       "      <td>Ice Cube</td>\n",
       "      <td>Who's The Mack?</td>\n",
       "      <td>Straight gangsta mack  \\r\\nStraight gangsta ma...</td>\n",
       "    </tr>\n",
       "    <tr>\n",
       "      <th>5</th>\n",
       "      <td>Tom Jones</td>\n",
       "      <td>Love Me Tonight</td>\n",
       "      <td>I know that it's late and I really must leave ...</td>\n",
       "    </tr>\n",
       "    <tr>\n",
       "      <th>6</th>\n",
       "      <td>Kenny Rogers</td>\n",
       "      <td>One More Day</td>\n",
       "      <td>Just one more day I ask  \\r\\nOne chance to lov...</td>\n",
       "    </tr>\n",
       "    <tr>\n",
       "      <th>7</th>\n",
       "      <td>Dream Theater</td>\n",
       "      <td>Peruvian Skies</td>\n",
       "      <td>There, there it is  \\r\\nI swear he's gonna mur...</td>\n",
       "    </tr>\n",
       "    <tr>\n",
       "      <th>8</th>\n",
       "      <td>Leo Sayer</td>\n",
       "      <td>Who Will The Next Fool Be</td>\n",
       "      <td>Falling, oh, oh, I'm falling  \\r\\nFalling so d...</td>\n",
       "    </tr>\n",
       "    <tr>\n",
       "      <th>9</th>\n",
       "      <td>Chaka Khan</td>\n",
       "      <td>Nothing's Gonna Take You Away</td>\n",
       "      <td>You, you carry your dreams in your eyes  \\r\\nA...</td>\n",
       "    </tr>\n",
       "  </tbody>\n",
       "</table>\n",
       "</div>"
      ],
      "text/plain": [
       "          artist                           song  \\\n",
       "0     Faith Hill             Little Drummer Boy   \n",
       "1    Demi Lovato                      Let It Go   \n",
       "2   James Taylor   How's The World Treating You   \n",
       "3      Quicksand                    Unfulfilled   \n",
       "4       Ice Cube                Who's The Mack?   \n",
       "5      Tom Jones                Love Me Tonight   \n",
       "6   Kenny Rogers                   One More Day   \n",
       "7  Dream Theater                 Peruvian Skies   \n",
       "8      Leo Sayer      Who Will The Next Fool Be   \n",
       "9     Chaka Khan  Nothing's Gonna Take You Away   \n",
       "\n",
       "                                                text  \n",
       "0  Come, they told me  \\r\\nPa, rum, pa, pum, pum ...  \n",
       "1  Let it go, let it go  \\r\\nCan't hold you back ...  \n",
       "2  I've had nothing but sorrow  \\r\\nSince you sai...  \n",
       "3  To stand the test of time,  \\r\\nTo stand alone...  \n",
       "4  Straight gangsta mack  \\r\\nStraight gangsta ma...  \n",
       "5  I know that it's late and I really must leave ...  \n",
       "6  Just one more day I ask  \\r\\nOne chance to lov...  \n",
       "7  There, there it is  \\r\\nI swear he's gonna mur...  \n",
       "8  Falling, oh, oh, I'm falling  \\r\\nFalling so d...  \n",
       "9  You, you carry your dreams in your eyes  \\r\\nA...  "
      ]
     },
     "execution_count": 33,
     "metadata": {},
     "output_type": "execute_result"
    }
   ],
   "source": [
    "df = df.sample(10000).drop('link',axis=1).reset_index(drop=True)\n",
    "df.head(10)"
   ]
  },
  {
   "cell_type": "code",
   "execution_count": 34,
   "id": "8bf67faf",
   "metadata": {},
   "outputs": [
    {
     "data": {
      "text/plain": [
       "(10000, 3)"
      ]
     },
     "execution_count": 34,
     "metadata": {},
     "output_type": "execute_result"
    }
   ],
   "source": [
    "df.shape"
   ]
  },
  {
   "cell_type": "code",
   "execution_count": 35,
   "id": "bee301e7",
   "metadata": {},
   "outputs": [
    {
     "data": {
      "text/plain": [
       "artist    0\n",
       "song      0\n",
       "text      0\n",
       "dtype: int64"
      ]
     },
     "execution_count": 35,
     "metadata": {},
     "output_type": "execute_result"
    }
   ],
   "source": [
    "df.isnull().sum()"
   ]
  },
  {
   "cell_type": "code",
   "execution_count": 36,
   "id": "fdb40284",
   "metadata": {},
   "outputs": [
    {
     "data": {
      "text/plain": [
       "np.int64(0)"
      ]
     },
     "execution_count": 36,
     "metadata": {},
     "output_type": "execute_result"
    }
   ],
   "source": [
    "df.duplicated().sum()"
   ]
  },
  {
   "cell_type": "code",
   "execution_count": 37,
   "id": "1b645dd2",
   "metadata": {},
   "outputs": [
    {
     "data": {
      "text/plain": [
       "\"Come, they told me  \\r\\nPa, rum, pa, pum, pum  \\r\\nA newborn king to see  \\r\\nPa, rum, pa, pum, pum  \\r\\nOur finest gifts we bring  \\r\\nPa, rum, pa, pum, pum  \\r\\nTo lay before the king  \\r\\nPa, rum, pa, pum, pum  \\r\\nRum, a pum pum  \\r\\nRum, pa, pum, pum  \\r\\nSo to honor him  \\r\\nPa, rum, pa, pum, pum  \\r\\nWhen we come  \\r\\n  \\r\\nLittle baby  \\r\\nPa, rum, pa, pum, pum  \\r\\nI am a poor boy, too  \\r\\nPa, rum, pa, pum, pum  \\r\\nI have no gift to bring  \\r\\nPa, rum, pa, pum, pum  \\r\\nThat's fit  \\r\\nTo give a king  \\r\\nPa, rum, pa, pum, pum  \\r\\nRum, pa, pum, pum  \\r\\nRum, pa, pum, pum  \\r\\nShall I play for you  \\r\\nPa, rum, pa, pum, pum  \\r\\nOn my drum  \\r\\n  \\r\\nYoi da adash  \\r\\nPa, rum, pa, pum, pum  \\r\\nThe ass  \\r\\nAnd lamb kept time  \\r\\nPa, rum, pa, pum, pum  \\r\\nI played my drum for him  \\r\\nPa, rum, pa, pum, pum  \\r\\nI played my best for him  \\r\\nPa, rum, pa, pum, pum  \\r\\nRum, pa, pum, pum  \\r\\nRum, pa, pum, pum  \\r\\nThen he smiled at me  \\r\\nPa, rum, pa, pum, pum  \\r\\nMe and my drum\\r\\n\\r\\n\""
      ]
     },
     "execution_count": 37,
     "metadata": {},
     "output_type": "execute_result"
    }
   ],
   "source": [
    "df['text'][0]"
   ]
  },
  {
   "cell_type": "markdown",
   "id": "00c3a340",
   "metadata": {},
   "source": [
    "# Preprocess Text\n",
    "Clean and preprocess the text data for analysis."
   ]
  },
  {
   "cell_type": "code",
   "execution_count": 38,
   "id": "46ffd999",
   "metadata": {},
   "outputs": [
    {
     "data": {
      "text/html": [
       "<div>\n",
       "<style scoped>\n",
       "    .dataframe tbody tr th:only-of-type {\n",
       "        vertical-align: middle;\n",
       "    }\n",
       "\n",
       "    .dataframe tbody tr th {\n",
       "        vertical-align: top;\n",
       "    }\n",
       "\n",
       "    .dataframe thead th {\n",
       "        text-align: right;\n",
       "    }\n",
       "</style>\n",
       "<table border=\"1\" class=\"dataframe\">\n",
       "  <thead>\n",
       "    <tr style=\"text-align: right;\">\n",
       "      <th></th>\n",
       "      <th>artist</th>\n",
       "      <th>song</th>\n",
       "      <th>text</th>\n",
       "    </tr>\n",
       "  </thead>\n",
       "  <tbody>\n",
       "    <tr>\n",
       "      <th>9990</th>\n",
       "      <td>Frankie Laine</td>\n",
       "      <td>On The Sunny Side Of The Street</td>\n",
       "      <td>walked with no one and talked with no one  \\r ...</td>\n",
       "    </tr>\n",
       "    <tr>\n",
       "      <th>9991</th>\n",
       "      <td>Frank Zappa</td>\n",
       "      <td>Cucamonga</td>\n",
       "      <td>frank zappa (lead guitar, vocals)  \\r captain ...</td>\n",
       "    </tr>\n",
       "    <tr>\n",
       "      <th>9992</th>\n",
       "      <td>Kate Bush</td>\n",
       "      <td>Hounds Of Love (Live) [Act One]</td>\n",
       "      <td>[intro: bertie mcintosh]  \\r \"it's in the tree...</td>\n",
       "    </tr>\n",
       "    <tr>\n",
       "      <th>9993</th>\n",
       "      <td>Nazareth</td>\n",
       "      <td>Just To Get Into It</td>\n",
       "      <td>i know that she don't like me  \\r she knows th...</td>\n",
       "    </tr>\n",
       "    <tr>\n",
       "      <th>9994</th>\n",
       "      <td>Kinks</td>\n",
       "      <td>Mr. Churchill Says</td>\n",
       "      <td>well mr. churchill says, mr. churchill says  \\...</td>\n",
       "    </tr>\n",
       "    <tr>\n",
       "      <th>9995</th>\n",
       "      <td>Bon Jovi</td>\n",
       "      <td>Mrs. Robinson</td>\n",
       "      <td>and here's to you, mrs. robinson  \\r jesus lov...</td>\n",
       "    </tr>\n",
       "    <tr>\n",
       "      <th>9996</th>\n",
       "      <td>Mazzy Star</td>\n",
       "      <td>I've Been Let Down</td>\n",
       "      <td>i've been let down  \\r and i still comin' roun...</td>\n",
       "    </tr>\n",
       "    <tr>\n",
       "      <th>9997</th>\n",
       "      <td>Lionel Richie</td>\n",
       "      <td>Jesus Is Love (Long Version)</td>\n",
       "      <td>father, help your children  \\r and don't let t...</td>\n",
       "    </tr>\n",
       "    <tr>\n",
       "      <th>9998</th>\n",
       "      <td>Grateful Dead</td>\n",
       "      <td>Big Railroad Blues</td>\n",
       "      <td>well my mama told me, my papa told me too  \\r ...</td>\n",
       "    </tr>\n",
       "    <tr>\n",
       "      <th>9999</th>\n",
       "      <td>Imagine Dragons</td>\n",
       "      <td>Look How Far We've Come</td>\n",
       "      <td>[intro]  \\r   \\r [verse 1]  \\r take me on a wh...</td>\n",
       "    </tr>\n",
       "  </tbody>\n",
       "</table>\n",
       "</div>"
      ],
      "text/plain": [
       "               artist                             song  \\\n",
       "9990    Frankie Laine  On The Sunny Side Of The Street   \n",
       "9991      Frank Zappa                        Cucamonga   \n",
       "9992        Kate Bush  Hounds Of Love (Live) [Act One]   \n",
       "9993         Nazareth              Just To Get Into It   \n",
       "9994            Kinks               Mr. Churchill Says   \n",
       "9995         Bon Jovi                    Mrs. Robinson   \n",
       "9996       Mazzy Star               I've Been Let Down   \n",
       "9997    Lionel Richie     Jesus Is Love (Long Version)   \n",
       "9998    Grateful Dead               Big Railroad Blues   \n",
       "9999  Imagine Dragons          Look How Far We've Come   \n",
       "\n",
       "                                                   text  \n",
       "9990  walked with no one and talked with no one  \\r ...  \n",
       "9991  frank zappa (lead guitar, vocals)  \\r captain ...  \n",
       "9992  [intro: bertie mcintosh]  \\r \"it's in the tree...  \n",
       "9993  i know that she don't like me  \\r she knows th...  \n",
       "9994  well mr. churchill says, mr. churchill says  \\...  \n",
       "9995  and here's to you, mrs. robinson  \\r jesus lov...  \n",
       "9996  i've been let down  \\r and i still comin' roun...  \n",
       "9997  father, help your children  \\r and don't let t...  \n",
       "9998  well my mama told me, my papa told me too  \\r ...  \n",
       "9999  [intro]  \\r   \\r [verse 1]  \\r take me on a wh...  "
      ]
     },
     "execution_count": 38,
     "metadata": {},
     "output_type": "execute_result"
    }
   ],
   "source": [
    "df['text'] = df['text'].str.lower().replace(r'^\\w\\s',' ').replace(r'\\n',' ',regex=True)\n",
    "df.tail(10)"
   ]
  },
  {
   "cell_type": "markdown",
   "id": "fbcd7c5c",
   "metadata": {},
   "source": []
  },
  {
   "cell_type": "code",
   "execution_count": 39,
   "id": "d191719c",
   "metadata": {},
   "outputs": [],
   "source": [
    "import nltk\n",
    "from nltk.stem.porter import PorterStemmer\n",
    "stemmer = PorterStemmer()\n",
    "\n",
    "def tokenization(txt):\n",
    "    tokens = nltk.word_tokenize(txt)\n",
    "    stemming = [stemmer.stem(w) for w in tokens]\n",
    "    return \" \".join(stemming)"
   ]
  },
  {
   "cell_type": "code",
   "execution_count": 40,
   "id": "8ade346c",
   "metadata": {},
   "outputs": [],
   "source": [
    "df['text'] = df['text'].apply(lambda x: tokenization(x))"
   ]
  },
  {
   "cell_type": "code",
   "execution_count": 41,
   "id": "2a8b7042",
   "metadata": {},
   "outputs": [],
   "source": [
    "from sklearn.feature_extraction.text import TfidfVectorizer\n",
    "from sklearn.metrics.pairwise import cosine_similarity"
   ]
  },
  {
   "cell_type": "code",
   "execution_count": 42,
   "id": "96777641",
   "metadata": {},
   "outputs": [],
   "source": [
    "tfidvector = TfidfVectorizer(analyzer='word',stop_words='english')\n",
    "matrix = tfidvector.fit_transform(df['text'])\n",
    "similarity = cosine_similarity(matrix)"
   ]
  },
  {
   "cell_type": "code",
   "execution_count": 43,
   "id": "5913e315",
   "metadata": {},
   "outputs": [
    {
     "data": {
      "text/plain": [
       "array([1.00000000e+00, 0.00000000e+00, 0.00000000e+00, ...,\n",
       "       8.20680872e-04, 3.45143036e-03, 3.90581610e-03])"
      ]
     },
     "execution_count": 43,
     "metadata": {},
     "output_type": "execute_result"
    }
   ],
   "source": [
    "similarity[0]"
   ]
  },
  {
   "cell_type": "code",
   "execution_count": 44,
   "id": "09201080",
   "metadata": {},
   "outputs": [
    {
     "data": {
      "text/html": [
       "<div>\n",
       "<style scoped>\n",
       "    .dataframe tbody tr th:only-of-type {\n",
       "        vertical-align: middle;\n",
       "    }\n",
       "\n",
       "    .dataframe tbody tr th {\n",
       "        vertical-align: top;\n",
       "    }\n",
       "\n",
       "    .dataframe thead th {\n",
       "        text-align: right;\n",
       "    }\n",
       "</style>\n",
       "<table border=\"1\" class=\"dataframe\">\n",
       "  <thead>\n",
       "    <tr style=\"text-align: right;\">\n",
       "      <th></th>\n",
       "      <th>artist</th>\n",
       "      <th>song</th>\n",
       "      <th>text</th>\n",
       "    </tr>\n",
       "  </thead>\n",
       "  <tbody>\n",
       "    <tr>\n",
       "      <th>5673</th>\n",
       "      <td>Eurythmics</td>\n",
       "      <td>Was It Just Another Love Affair?</td>\n",
       "      <td>you do n't call me anymor but do n't you think...</td>\n",
       "    </tr>\n",
       "  </tbody>\n",
       "</table>\n",
       "</div>"
      ],
      "text/plain": [
       "          artist                              song  \\\n",
       "5673  Eurythmics  Was It Just Another Love Affair?   \n",
       "\n",
       "                                                   text  \n",
       "5673  you do n't call me anymor but do n't you think...  "
      ]
     },
     "execution_count": 44,
     "metadata": {},
     "output_type": "execute_result"
    }
   ],
   "source": [
    "df[df['song'] == \"Was It Just Another Love Affair?\"]"
   ]
  },
  {
   "cell_type": "code",
   "execution_count": 45,
   "id": "6a09db2b",
   "metadata": {},
   "outputs": [],
   "source": [
    "def recommendation(song_df):\n",
    "    idx = df[df['song'] == song_df].index[0]\n",
    "    distances = sorted(list(enumerate(similarity[idx])),reverse=True,key=lambda x:x[1])\n",
    "    \n",
    "    songs = []\n",
    "    for m_id in distances[1:21]:\n",
    "        songs.append(df.iloc[m_id[0]].song)\n",
    "        \n",
    "    return songs"
   ]
  },
  {
   "cell_type": "code",
   "execution_count": 48,
   "id": "2afad4cd",
   "metadata": {},
   "outputs": [
    {
     "data": {
      "text/plain": [
       "['If You Love Me',\n",
       " 'Our Love',\n",
       " 'I Can Help',\n",
       " 'Our Love Was',\n",
       " 'Is It Love',\n",
       " 'I Love You',\n",
       " 'Find A Way',\n",
       " 'I Will Always Need Your Love',\n",
       " \"I Guess I'll Always Love You\",\n",
       " 'I Love How To Love Me',\n",
       " 'No More Looking For Love',\n",
       " 'My Love Life',\n",
       " 'Need You Next To Me',\n",
       " 'Who Do You Love?',\n",
       " 'Passing Through Air',\n",
       " 'One Good Love',\n",
       " 'Blue',\n",
       " 'I Love All Of Me',\n",
       " \"You've Been In Love\",\n",
       " 'Hawkmoon 269']"
      ]
     },
     "execution_count": 48,
     "metadata": {},
     "output_type": "execute_result"
    }
   ],
   "source": [
    "recommendation('Hounds Of Love (Live) [Act One]')"
   ]
  },
  {
   "cell_type": "code",
   "execution_count": 49,
   "id": "8056ef2e",
   "metadata": {},
   "outputs": [],
   "source": [
    "import pickle\n",
    "pickle.dump(similarity,open('similarity.pkl','wb'))\n",
    "pickle.dump(df,open('df.pkl','wb'))"
   ]
  }
 ],
 "metadata": {
  "kernelspec": {
   "display_name": "Python 3",
   "language": "python",
   "name": "python3"
  },
  "language_info": {
   "codemirror_mode": {
    "name": "ipython",
    "version": 3
   },
   "file_extension": ".py",
   "mimetype": "text/x-python",
   "name": "python",
   "nbconvert_exporter": "python",
   "pygments_lexer": "ipython3",
   "version": "3.11.6"
  }
 },
 "nbformat": 4,
 "nbformat_minor": 5
}
